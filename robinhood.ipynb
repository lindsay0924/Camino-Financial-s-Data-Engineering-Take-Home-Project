{
  "nbformat": 4,
  "nbformat_minor": 0,
  "metadata": {
    "colab": {
      "name": "robinhood.ipynb",
      "provenance": [],
      "authorship_tag": "ABX9TyNx0RZWOjWfEzXuAjtefX0R",
      "include_colab_link": true
    },
    "kernelspec": {
      "name": "python3",
      "display_name": "Python 3"
    },
    "language_info": {
      "name": "python"
    }
  },
  "cells": [
    {
      "cell_type": "markdown",
      "metadata": {
        "id": "view-in-github",
        "colab_type": "text"
      },
      "source": [
        "<a href=\"https://colab.research.google.com/github/lindsay0924/Camino-Financial-s-Data-Engineering-Take-Home-Project/blob/master/robinhood.ipynb\" target=\"_parent\"><img src=\"https://colab.research.google.com/assets/colab-badge.svg\" alt=\"Open In Colab\"/></a>"
      ]
    },
    {
      "cell_type": "code",
      "metadata": {
        "id": "G7oRpHTJG5EB"
      },
      "source": [
        "import matplotlib.pyplot as plt\n",
        "import pandas as pd\n",
        "import numpy as np\n",
        "from sklearn import datasets, ensemble\n",
        "from sklearn.inspection import permutation_importance\n",
        "from sklearn.metrics import mean_squared_error\n",
        "from sklearn.model_selection import train_test_split"
      ],
      "execution_count": 1,
      "outputs": []
    },
    {
      "cell_type": "markdown",
      "metadata": {
        "id": "RJeYWsT_-BsW"
      },
      "source": [
        "##Load the data"
      ]
    },
    {
      "cell_type": "code",
      "metadata": {
        "id": "4ovNloBSHFOD"
      },
      "source": [
        "data1 = pd.read_csv('/content/delta_price_symbols_A_to_D.csv', header = 0)\n",
        "data2 = pd.read_csv('/content/delta_price_symbols_E_to_H.csv', header = 0)\n",
        "data3 = pd.read_csv('/content/delta_price_symbol_X.csv', header = 0)"
      ],
      "execution_count": 2,
      "outputs": []
    },
    {
      "cell_type": "markdown",
      "metadata": {
        "id": "mHbQNjv4JU3f"
      },
      "source": [
        "##Data Cleansing"
      ]
    },
    {
      "cell_type": "code",
      "metadata": {
        "id": "bqTQ0gO5JR2X"
      },
      "source": [
        "data1 = data1.drop(['Date','Unnamed: 0'], axis = 1)\n",
        "data2 = data2.drop(['Date','Unnamed: 0'], axis = 1)\n",
        "data3 = data3.drop(['Date','Unnamed: 0'], axis = 1)\n",
        "data = pd.concat([data1, data2, data3], axis = 1)\n",
        "\n",
        "X, y = data.drop(['delta_price_X'], axis = 1), data.delta_price_X"
      ],
      "execution_count": 3,
      "outputs": []
    },
    {
      "cell_type": "markdown",
      "metadata": {
        "id": "XyUvoaNc-GQn"
      },
      "source": [
        "##Data preprocessing"
      ]
    },
    {
      "cell_type": "code",
      "metadata": {
        "id": "UPDpRBnCHJYO"
      },
      "source": [
        "X_train, X_test, y_train, y_test = train_test_split(\n",
        "    X, y, test_size=0.1, random_state=13)\n",
        "\n",
        "params = {'n_estimators': 1000,\n",
        "          'max_depth': 4,\n",
        "          'min_samples_split': 5,\n",
        "          'learning_rate': 0.01,\n",
        "          'loss': 'ls'}"
      ],
      "execution_count": 4,
      "outputs": []
    },
    {
      "cell_type": "markdown",
      "metadata": {
        "id": "FUfV6c7X-L24"
      },
      "source": [
        "##Fit regression model"
      ]
    },
    {
      "cell_type": "code",
      "metadata": {
        "colab": {
          "base_uri": "https://localhost:8080/"
        },
        "id": "4mafINMKHMfB",
        "outputId": "128a024b-98d3-4dfc-f155-6c6740944e8d"
      },
      "source": [
        "reg = ensemble.GradientBoostingRegressor(**params)\n",
        "reg.fit(X_train, y_train)\n",
        "\n",
        "mse = mean_squared_error(y_test, reg.predict(X_test))\n",
        "print(\"The mean squared error (MSE) on test set: {:.4f}\".format(mse))\n",
        "\n",
        "print(\"Model Accuracy: %.3f\" % reg.score(X_test, y_test))"
      ],
      "execution_count": 5,
      "outputs": [
        {
          "output_type": "stream",
          "name": "stdout",
          "text": [
            "The mean squared error (MSE) on test set: 0.0283\n",
            "Model Accuracy: -0.153\n"
          ]
        }
      ]
    },
    {
      "cell_type": "markdown",
      "metadata": {
        "id": "m96ouyu5-PKL"
      },
      "source": [
        "##Calculate the coefficient and intercept"
      ]
    },
    {
      "cell_type": "code",
      "metadata": {
        "colab": {
          "base_uri": "https://localhost:8080/"
        },
        "id": "kc1wzeJfXT9A",
        "outputId": "57fe7ed8-aaec-420c-e9c3-2516a9c73a31"
      },
      "source": [
        "l = len(X_test.iloc[0])\n",
        "coef = []\n",
        "test = [0]*l\n",
        "intercept = reg.predict(np.array(test).reshape(1,-1))\n",
        "for i in range(l):\n",
        "  test = [0]*l\n",
        "  test[i] = 1\n",
        "  coef_i = reg.predict(np.array(test).reshape(1,-1)) - intercept\n",
        "  rounded_coef_i = round(coef_i[0],4)\n",
        "  coef.append(rounded_coef_i)\n",
        "print('The intercept is :{}'.format(intercept))\n",
        "print('The coefficients are :{}'.format(coef))   "
      ],
      "execution_count": 6,
      "outputs": [
        {
          "output_type": "stream",
          "name": "stdout",
          "text": [
            "The intercept is :[0.03505496]\n",
            "The coefficients are :[0.0717, -0.0102, 0.0198, 0.0304, 0.0176, 0.014, -0.0781, 0.045]\n"
          ]
        }
      ]
    },
    {
      "cell_type": "markdown",
      "metadata": {
        "id": "gpsf2E8C-Z8H"
      },
      "source": [
        "##Plot training deviance"
      ]
    },
    {
      "cell_type": "code",
      "metadata": {
        "colab": {
          "base_uri": "https://localhost:8080/",
          "height": 441
        },
        "id": "mkpnGCqVHqNN",
        "outputId": "bac9f47e-9e9e-4e49-a8bb-abe7590896fd"
      },
      "source": [
        "test_score = np.zeros((params['n_estimators'],), dtype=np.float64)\n",
        "for i, y_pred in enumerate(reg.staged_predict(X_test)):\n",
        "    test_score[i] = reg.loss_(y_test, y_pred)\n",
        "\n",
        "fig = plt.figure(figsize=(6, 6))\n",
        "plt.subplot(1, 1, 1)\n",
        "plt.title('Deviance')\n",
        "plt.plot(np.arange(params['n_estimators']) + 1, reg.train_score_, 'b-',\n",
        "         label='Training Set Deviance')\n",
        "plt.plot(np.arange(params['n_estimators']) + 1, test_score, 'r-',\n",
        "         label='Test Set Deviance')\n",
        "plt.legend(loc='upper right')\n",
        "plt.xlabel('Boosting Iterations')\n",
        "plt.ylabel('Deviance')\n",
        "fig.tight_layout()\n",
        "plt.show()"
      ],
      "execution_count": 7,
      "outputs": [
        {
          "output_type": "display_data",
          "data": {
            "image/png": "[encoded data removed]",
            "text/plain": [
              "<Figure size 432x432 with 1 Axes>"
            ]
          },
          "metadata": {
            "needs_background": "light"
          }
        }
      ]
    },
    {
      "cell_type": "markdown",
      "metadata": {
        "id": "UI0uTykQ-eQI"
      },
      "source": [
        "##Plot feature importance"
      ]
    },
    {
      "cell_type": "code",
      "metadata": {
        "colab": {
          "base_uri": "https://localhost:8080/",
          "height": 441
        },
        "id": "H7e2QsgKHt-C",
        "outputId": "b4706012-f21b-4c65-afa8-64ff93384869"
      },
      "source": [
        "feature_importance = reg.feature_importances_\n",
        "sorted_idx = np.argsort(feature_importance)\n",
        "pos = np.arange(sorted_idx.shape[0]) + .5\n",
        "fig = plt.figure(figsize=(12, 6))\n",
        "plt.subplot(1, 2, 1)\n",
        "plt.barh(pos, feature_importance[sorted_idx], align='center')\n",
        "plt.yticks(pos, np.array(data.columns)[sorted_idx])\n",
        "plt.title('Feature Importance (MDI)')\n",
        "\n",
        "result = permutation_importance(reg, X_test, y_test, n_repeats=10,\n",
        "                                random_state=42, n_jobs=2)\n",
        "sorted_idx = result.importances_mean.argsort()\n",
        "plt.subplot(1, 2, 2)\n",
        "plt.boxplot(result.importances[sorted_idx].T,\n",
        "            vert=False, labels=np.array(data.columns)[sorted_idx])\n",
        "plt.title(\"Permutation Importance (test set)\")\n",
        "fig.tight_layout()\n",
        "plt.show()"
      ],
      "execution_count": 8,
      "outputs": [
        {
          "output_type": "display_data",
          "data": {
            "image/png": "[encoded data removed]",
            "text/plain": [
              "<Figure size 864x432 with 2 Axes>"
            ]
          },
          "metadata": {
            "needs_background": "light"
          }
        }
      ]
    },
    {
      "cell_type": "markdown",
      "metadata": {
        "id": "NAHsi0TL-pZR"
      },
      "source": [
        "##Detect Multicolinearity"
      ]
    },
    {
      "cell_type": "code",
      "metadata": {
        "colab": {
          "base_uri": "https://localhost:8080/"
        },
        "id": "60izqhV2PZi6",
        "outputId": "a86c0afd-94d0-45b7-a430-6fa5e3d72a47"
      },
      "source": [
        "from statsmodels.stats.outliers_influence import variance_inflation_factor\n",
        "  \n",
        "vif_data = pd.DataFrame()\n",
        "vif_data[\"feature\"] = X.columns\n",
        "  \n",
        "# calculating VIF for each feature\n",
        "vif_data[\"VIF\"] = [variance_inflation_factor(X.values, i)\n",
        "                          for i in range(len(X.columns))]\n",
        "  \n",
        "print(vif_data.sort_values('VIF'))"
      ],
      "execution_count": 9,
      "outputs": [
        {
          "output_type": "stream",
          "name": "stdout",
          "text": [
            "         feature        VIF\n",
            "4  delta_price_E  13.405753\n",
            "1  delta_price_B  15.690421\n",
            "5  delta_price_F  16.075372\n",
            "6  delta_price_G  17.317676\n",
            "0  delta_price_A  17.636775\n",
            "2  delta_price_C  18.473310\n",
            "3  delta_price_D  27.714634\n",
            "7  delta_price_H  31.038473\n"
          ]
        },
        {
          "output_type": "stream",
          "name": "stderr",
          "text": [
            "/usr/local/lib/python3.7/dist-packages/statsmodels/tools/_testing.py:19: FutureWarning: pandas.util.testing is deprecated. Use the functions in the public API at pandas.testing instead.\n",
            "  import pandas.util.testing as tm\n"
          ]
        }
      ]
    }
  ]
}